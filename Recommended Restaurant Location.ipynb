{
    "cells": [
        {
            "cell_type": "markdown",
            "metadata": {
                "collapsed": true
            },
            "source": "# Mexican Restaurants in Toronto"
        },
        {
            "cell_type": "markdown",
            "metadata": {},
            "source": "## Introduction\nThe client wishes to better understand where existing mexican restaurants are located in Toronto.  This report will investigate existing restaurants broken down by borough, and will recommend the best borough(s) for a new location."
        },
        {
            "cell_type": "markdown",
            "metadata": {},
            "source": "## Data\nThe following data will be used in this report:\n - Wikipedia table of Toronto boroughs and neighborhoods\n - Latitude and longitude of Toronto postal codes provided by IBM coursera course\n - Foursquare location data"
        },
        {
            "cell_type": "code",
            "execution_count": null,
            "metadata": {},
            "outputs": [],
            "source": ""
        }
    ],
    "metadata": {
        "kernelspec": {
            "display_name": "Python 3.6",
            "language": "python",
            "name": "python3"
        },
        "language_info": {
            "codemirror_mode": {
                "name": "ipython",
                "version": 3
            },
            "file_extension": ".py",
            "mimetype": "text/x-python",
            "name": "python",
            "nbconvert_exporter": "python",
            "pygments_lexer": "ipython3",
            "version": "3.6.9"
        }
    },
    "nbformat": 4,
    "nbformat_minor": 1
}